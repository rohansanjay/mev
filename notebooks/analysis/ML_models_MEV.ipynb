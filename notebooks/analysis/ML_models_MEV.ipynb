{
  "nbformat": 4,
  "nbformat_minor": 0,
  "metadata": {
    "colab": {
      "name": "Untitled3.ipynb",
      "provenance": []
    },
    "kernelspec": {
      "name": "python3",
      "display_name": "Python 3"
    },
    "language_info": {
      "name": "python"
    }
  },
  "cells": [
    {
      "cell_type": "code",
      "execution_count": 1,
      "metadata": {
        "colab": {
          "base_uri": "https://localhost:8080/"
        },
        "id": "i7SnKGrkrym3",
        "outputId": "5c8eaded-a08d-47b1-abad-f2fc7a919871"
      },
      "outputs": [
        {
          "output_type": "stream",
          "name": "stdout",
          "text": [
            "Requirement already satisfied: bs4 in /usr/local/lib/python3.7/dist-packages (0.0.1)\n",
            "Requirement already satisfied: beautifulsoup4 in /usr/local/lib/python3.7/dist-packages (from bs4) (4.6.3)\n",
            "Requirement already satisfied: lxml in /usr/local/lib/python3.7/dist-packages (4.2.6)\n"
          ]
        }
      ],
      "source": [
        "import pandas as pd\n",
        "import numpy as np\n",
        "import matplotlib.pyplot as plt\n",
        "!pip install bs4 \n",
        "from bs4 import BeautifulSoup\n",
        "!pip install lxml\n",
        "import requests\n",
        "import ast\n",
        "from datetime import datetime\n",
        "import seaborn as sb"
      ]
    },
    {
      "cell_type": "code",
      "source": [
        "data = pd.read_csv('blocks.csv')\n",
        "data.head()"
      ],
      "metadata": {
        "colab": {
          "base_uri": "https://localhost:8080/",
          "height": 206
        },
        "id": "7Xj1g0oSr0Xx",
        "outputId": "38d9f9c9-a589-4595-9234-89864bcad6f6"
      },
      "execution_count": 2,
      "outputs": [
        {
          "output_type": "execute_result",
          "data": {
            "text/html": [
              "<div>\n",
              "<style scoped>\n",
              "    .dataframe tbody tr th:only-of-type {\n",
              "        vertical-align: middle;\n",
              "    }\n",
              "\n",
              "    .dataframe tbody tr th {\n",
              "        vertical-align: top;\n",
              "    }\n",
              "\n",
              "    .dataframe thead th {\n",
              "        text-align: right;\n",
              "    }\n",
              "</style>\n",
              "<table border=\"1\" class=\"dataframe\">\n",
              "  <thead>\n",
              "    <tr style=\"text-align: right;\">\n",
              "      <th></th>\n",
              "      <th>block_number</th>\n",
              "      <th>miner_reward</th>\n",
              "      <th>miner</th>\n",
              "      <th>coinbase_transfers</th>\n",
              "      <th>gas_used</th>\n",
              "      <th>gas_price</th>\n",
              "      <th>is_megabundle</th>\n",
              "    </tr>\n",
              "  </thead>\n",
              "  <tbody>\n",
              "    <tr>\n",
              "      <th>0</th>\n",
              "      <td>13775083</td>\n",
              "      <td>125045451439363164</td>\n",
              "      <td>0xEA674fdDe714fd979de3EdF0F56AA9716B898ec8</td>\n",
              "      <td>61786663982135467</td>\n",
              "      <td>1697891</td>\n",
              "      <td>73647514145</td>\n",
              "      <td>False</td>\n",
              "    </tr>\n",
              "    <tr>\n",
              "      <th>1</th>\n",
              "      <td>13775085</td>\n",
              "      <td>60167343345268217</td>\n",
              "      <td>0xEA674fdDe714fd979de3EdF0F56AA9716B898ec8</td>\n",
              "      <td>0</td>\n",
              "      <td>880215</td>\n",
              "      <td>68355280636</td>\n",
              "      <td>False</td>\n",
              "    </tr>\n",
              "    <tr>\n",
              "      <th>2</th>\n",
              "      <td>13775086</td>\n",
              "      <td>37221411604739120</td>\n",
              "      <td>0x3EcEf08D0e2DaD803847E052249bb4F8bFf2D5bB</td>\n",
              "      <td>0</td>\n",
              "      <td>523234</td>\n",
              "      <td>71137218920</td>\n",
              "      <td>False</td>\n",
              "    </tr>\n",
              "    <tr>\n",
              "      <th>3</th>\n",
              "      <td>13775087</td>\n",
              "      <td>26322208719570153</td>\n",
              "      <td>0xEA674fdDe714fd979de3EdF0F56AA9716B898ec8</td>\n",
              "      <td>0</td>\n",
              "      <td>235530</td>\n",
              "      <td>111757350314</td>\n",
              "      <td>False</td>\n",
              "    </tr>\n",
              "    <tr>\n",
              "      <th>4</th>\n",
              "      <td>13775088</td>\n",
              "      <td>59057993680131144</td>\n",
              "      <td>0xEA674fdDe714fd979de3EdF0F56AA9716B898ec8</td>\n",
              "      <td>0</td>\n",
              "      <td>952410</td>\n",
              "      <td>62009002089</td>\n",
              "      <td>False</td>\n",
              "    </tr>\n",
              "  </tbody>\n",
              "</table>\n",
              "</div>"
            ],
            "text/plain": [
              "   block_number        miner_reward  ...     gas_price is_megabundle\n",
              "0      13775083  125045451439363164  ...   73647514145         False\n",
              "1      13775085   60167343345268217  ...   68355280636         False\n",
              "2      13775086   37221411604739120  ...   71137218920         False\n",
              "3      13775087   26322208719570153  ...  111757350314         False\n",
              "4      13775088   59057993680131144  ...   62009002089         False\n",
              "\n",
              "[5 rows x 7 columns]"
            ]
          },
          "metadata": {},
          "execution_count": 2
        }
      ]
    },
    {
      "cell_type": "code",
      "source": [
        "data2 = pd.read_csv('arbitrages.csv')\n",
        "data2.head()"
      ],
      "metadata": {
        "colab": {
          "base_uri": "https://localhost:8080/",
          "height": 487
        },
        "id": "WpVjjFBFsdbw",
        "outputId": "2ea0a41f-7fe6-4b3e-bbda-417b7e3814f9"
      },
      "execution_count": 3,
      "outputs": [
        {
          "output_type": "execute_result",
          "data": {
            "text/html": [
              "<div>\n",
              "<style scoped>\n",
              "    .dataframe tbody tr th:only-of-type {\n",
              "        vertical-align: middle;\n",
              "    }\n",
              "\n",
              "    .dataframe tbody tr th {\n",
              "        vertical-align: top;\n",
              "    }\n",
              "\n",
              "    .dataframe thead th {\n",
              "        text-align: right;\n",
              "    }\n",
              "</style>\n",
              "<table border=\"1\" class=\"dataframe\">\n",
              "  <thead>\n",
              "    <tr style=\"text-align: right;\">\n",
              "      <th></th>\n",
              "      <th>id</th>\n",
              "      <th>created_at</th>\n",
              "      <th>account_address</th>\n",
              "      <th>profit_token_address</th>\n",
              "      <th>block_number</th>\n",
              "      <th>transaction_hash</th>\n",
              "      <th>start_amount</th>\n",
              "      <th>end_amount</th>\n",
              "      <th>profit_amount</th>\n",
              "    </tr>\n",
              "  </thead>\n",
              "  <tbody>\n",
              "    <tr>\n",
              "      <th>0</th>\n",
              "      <td>fae8b319-4b1c-4e31-afa1-54178051df73</td>\n",
              "      <td>2021-12-12 20:50:31.191191</td>\n",
              "      <td>0x520d18f8d73f5a6a961dc42834b9291e73731030</td>\n",
              "      <td>0xc02aaa39b223fe8d0a0e5c4f27ead9083c756cc2</td>\n",
              "      <td>12914947.0</td>\n",
              "      <td>0x1ad42324b2e62f983e639f614d6ea6d092c883fe9275...</td>\n",
              "      <td>3.105185e+18</td>\n",
              "      <td>3.121378e+18</td>\n",
              "      <td>1.619320e+16</td>\n",
              "    </tr>\n",
              "    <tr>\n",
              "      <th>1</th>\n",
              "      <td>1471a834-5672-459d-a34d-39c158a18a10</td>\n",
              "      <td>2021-12-12 20:50:36.550523</td>\n",
              "      <td>0x18c09bd6f4a5d72e55f332399cc2f6d1c02a7382</td>\n",
              "      <td>0xa0b86991c6218b36c1d19d4a2e9eb0ce3606eb48</td>\n",
              "      <td>12914949.0</td>\n",
              "      <td>0x0ee3336d4afef8cff5f68d5afa135ed96f5759bf486a...</td>\n",
              "      <td>2.222100e+09</td>\n",
              "      <td>2.606449e+09</td>\n",
              "      <td>3.843492e+08</td>\n",
              "    </tr>\n",
              "    <tr>\n",
              "      <th>2</th>\n",
              "      <td>068613f9-ce17-4a9d-bd17-f365129ba96e</td>\n",
              "      <td>2021-12-12 20:50:36.550523</td>\n",
              "      <td>0xc8046263d5b5544f6413a98b4693488499195a46</td>\n",
              "      <td>0xc02aaa39b223fe8d0a0e5c4f27ead9083c756cc2</td>\n",
              "      <td>12914949.0</td>\n",
              "      <td>0xf57d9fd882eefc5ccdee4487b3599145d590aed03bf1...</td>\n",
              "      <td>2.870145e+18</td>\n",
              "      <td>3.261271e+18</td>\n",
              "      <td>3.911255e+17</td>\n",
              "    </tr>\n",
              "    <tr>\n",
              "      <th>3</th>\n",
              "      <td>cc69ec51-d46b-4daf-97cf-c3c93d101ef1</td>\n",
              "      <td>2021-12-12 20:50:37.739826</td>\n",
              "      <td>0x5e6732d6416d3f3a6574b61ef1c81316cf8d9287</td>\n",
              "      <td>0xc02aaa39b223fe8d0a0e5c4f27ead9083c756cc2</td>\n",
              "      <td>12914944.0</td>\n",
              "      <td>0x448245bf1a507b73516c4eeee01611927dada6610bf2...</td>\n",
              "      <td>1.200000e+18</td>\n",
              "      <td>1.950005e+18</td>\n",
              "      <td>7.500053e+17</td>\n",
              "    </tr>\n",
              "    <tr>\n",
              "      <th>4</th>\n",
              "      <td>467bdbbc-7bf2-4f96-bde6-320bfd0c89db</td>\n",
              "      <td>2021-12-12 20:50:37.739826</td>\n",
              "      <td>0x0000fee6275dab194ab538a01dd8b18b02b20000</td>\n",
              "      <td>0xc02aaa39b223fe8d0a0e5c4f27ead9083c756cc2</td>\n",
              "      <td>12914944.0</td>\n",
              "      <td>0xfcf4558f6432689ea57737fe63124a5ec39fd6ba6aaf...</td>\n",
              "      <td>7.028764e+19</td>\n",
              "      <td>1.238484e+20</td>\n",
              "      <td>5.356071e+19</td>\n",
              "    </tr>\n",
              "  </tbody>\n",
              "</table>\n",
              "</div>"
            ],
            "text/plain": [
              "                                     id  ... profit_amount\n",
              "0  fae8b319-4b1c-4e31-afa1-54178051df73  ...  1.619320e+16\n",
              "1  1471a834-5672-459d-a34d-39c158a18a10  ...  3.843492e+08\n",
              "2  068613f9-ce17-4a9d-bd17-f365129ba96e  ...  3.911255e+17\n",
              "3  cc69ec51-d46b-4daf-97cf-c3c93d101ef1  ...  7.500053e+17\n",
              "4  467bdbbc-7bf2-4f96-bde6-320bfd0c89db  ...  5.356071e+19\n",
              "\n",
              "[5 rows x 9 columns]"
            ]
          },
          "metadata": {},
          "execution_count": 3
        }
      ]
    },
    {
      "cell_type": "code",
      "source": [
        "main_dataframe = data.merge(data2, on='block_number')"
      ],
      "metadata": {
        "id": "IpfVh3zVuVPB"
      },
      "execution_count": 15,
      "outputs": []
    },
    {
      "cell_type": "code",
      "source": [
        "main_dataframe.head()"
      ],
      "metadata": {
        "colab": {
          "base_uri": "https://localhost:8080/",
          "height": 487
        },
        "id": "DKqVRj7uvf5q",
        "outputId": "790f8d0c-8753-4e32-9d66-24537803328f"
      },
      "execution_count": 16,
      "outputs": [
        {
          "output_type": "execute_result",
          "data": {
            "text/html": [
              "<div>\n",
              "<style scoped>\n",
              "    .dataframe tbody tr th:only-of-type {\n",
              "        vertical-align: middle;\n",
              "    }\n",
              "\n",
              "    .dataframe tbody tr th {\n",
              "        vertical-align: top;\n",
              "    }\n",
              "\n",
              "    .dataframe thead th {\n",
              "        text-align: right;\n",
              "    }\n",
              "</style>\n",
              "<table border=\"1\" class=\"dataframe\">\n",
              "  <thead>\n",
              "    <tr style=\"text-align: right;\">\n",
              "      <th></th>\n",
              "      <th>block_number</th>\n",
              "      <th>miner_reward</th>\n",
              "      <th>miner</th>\n",
              "      <th>coinbase_transfers</th>\n",
              "      <th>gas_used</th>\n",
              "      <th>gas_price</th>\n",
              "      <th>is_megabundle</th>\n",
              "      <th>id</th>\n",
              "      <th>created_at</th>\n",
              "      <th>account_address</th>\n",
              "      <th>profit_token_address</th>\n",
              "      <th>transaction_hash</th>\n",
              "      <th>start_amount</th>\n",
              "      <th>end_amount</th>\n",
              "      <th>profit_amount</th>\n",
              "    </tr>\n",
              "  </thead>\n",
              "  <tbody>\n",
              "    <tr>\n",
              "      <th>0</th>\n",
              "      <td>13775083</td>\n",
              "      <td>125045451439363164</td>\n",
              "      <td>0xEA674fdDe714fd979de3EdF0F56AA9716B898ec8</td>\n",
              "      <td>61786663982135467</td>\n",
              "      <td>1697891</td>\n",
              "      <td>73647514145</td>\n",
              "      <td>False</td>\n",
              "      <td>1ee23807-584c-4ea9-944c-401d32ef70ad</td>\n",
              "      <td>2021-12-13 09:58:07.032910</td>\n",
              "      <td>0x23c8030cb6e7e9f190f79591a39cc928c55d650f</td>\n",
              "      <td>0xc02aaa39b223fe8d0a0e5c4f27ead9083c756cc2</td>\n",
              "      <td>0x4a1b2aaa5f42570c411bd6824b29470d969423d02822...</td>\n",
              "      <td>1.061023e+18</td>\n",
              "      <td>1.097619e+18</td>\n",
              "      <td>3.659599e+16</td>\n",
              "    </tr>\n",
              "    <tr>\n",
              "      <th>1</th>\n",
              "      <td>13775085</td>\n",
              "      <td>60167343345268217</td>\n",
              "      <td>0xEA674fdDe714fd979de3EdF0F56AA9716B898ec8</td>\n",
              "      <td>0</td>\n",
              "      <td>880215</td>\n",
              "      <td>68355280636</td>\n",
              "      <td>False</td>\n",
              "      <td>063ebd73-031f-42f2-97ea-f10cede270cd</td>\n",
              "      <td>2021-12-13 04:39:12.896358</td>\n",
              "      <td>0x8fe7d9643077b4ab2885cb2dad4236cc4784413f</td>\n",
              "      <td>0xc02aaa39b223fe8d0a0e5c4f27ead9083c756cc2</td>\n",
              "      <td>0xdd40db0589778eb537b05d81b3eba946fb8f22f027f1...</td>\n",
              "      <td>6.764286e+16</td>\n",
              "      <td>8.050171e+16</td>\n",
              "      <td>1.285885e+16</td>\n",
              "    </tr>\n",
              "    <tr>\n",
              "      <th>2</th>\n",
              "      <td>13775085</td>\n",
              "      <td>60167343345268217</td>\n",
              "      <td>0xEA674fdDe714fd979de3EdF0F56AA9716B898ec8</td>\n",
              "      <td>0</td>\n",
              "      <td>880215</td>\n",
              "      <td>68355280636</td>\n",
              "      <td>False</td>\n",
              "      <td>4e21a4e1-5f0b-4f76-a23f-69495e31c5f7</td>\n",
              "      <td>2021-12-13 04:39:12.896358</td>\n",
              "      <td>0x5aa3393e361c2eb342408559309b3e873cd876d6</td>\n",
              "      <td>0xc02aaa39b223fe8d0a0e5c4f27ead9083c756cc2</td>\n",
              "      <td>0xe93d0e065bbd39c887169128f9c42a534dfd8dd0d0e5...</td>\n",
              "      <td>8.307637e+17</td>\n",
              "      <td>8.517443e+17</td>\n",
              "      <td>2.098058e+16</td>\n",
              "    </tr>\n",
              "    <tr>\n",
              "      <th>3</th>\n",
              "      <td>13775086</td>\n",
              "      <td>37221411604739120</td>\n",
              "      <td>0x3EcEf08D0e2DaD803847E052249bb4F8bFf2D5bB</td>\n",
              "      <td>0</td>\n",
              "      <td>523234</td>\n",
              "      <td>71137218920</td>\n",
              "      <td>False</td>\n",
              "      <td>24b3109c-664b-44a5-9653-2ad97d04c564</td>\n",
              "      <td>2021-12-13 04:39:08.148976</td>\n",
              "      <td>0x000000004b614af95d1bb7c236a3aa800b722173</td>\n",
              "      <td>0xc02aaa39b223fe8d0a0e5c4f27ead9083c756cc2</td>\n",
              "      <td>0xeaccb9394291d552f47332d318c6b026c7c2fce548a7...</td>\n",
              "      <td>7.475975e+17</td>\n",
              "      <td>7.657206e+17</td>\n",
              "      <td>1.812307e+16</td>\n",
              "    </tr>\n",
              "    <tr>\n",
              "      <th>4</th>\n",
              "      <td>13775088</td>\n",
              "      <td>59057993680131144</td>\n",
              "      <td>0xEA674fdDe714fd979de3EdF0F56AA9716B898ec8</td>\n",
              "      <td>0</td>\n",
              "      <td>952410</td>\n",
              "      <td>62009002089</td>\n",
              "      <td>False</td>\n",
              "      <td>5a407faa-bab8-49aa-a9dd-50b6944f5ef9</td>\n",
              "      <td>2021-12-13 04:39:20.369183</td>\n",
              "      <td>0x5f62593c70069abb35dfe2b63db969e8906609d6</td>\n",
              "      <td>0xc02aaa39b223fe8d0a0e5c4f27ead9083c756cc2</td>\n",
              "      <td>0x7a511db7c8808997a566f57b54757b122ad346eaabc8...</td>\n",
              "      <td>2.710000e+18</td>\n",
              "      <td>2.742922e+18</td>\n",
              "      <td>3.292217e+16</td>\n",
              "    </tr>\n",
              "  </tbody>\n",
              "</table>\n",
              "</div>"
            ],
            "text/plain": [
              "   block_number        miner_reward  ...    end_amount profit_amount\n",
              "0      13775083  125045451439363164  ...  1.097619e+18  3.659599e+16\n",
              "1      13775085   60167343345268217  ...  8.050171e+16  1.285885e+16\n",
              "2      13775085   60167343345268217  ...  8.517443e+17  2.098058e+16\n",
              "3      13775086   37221411604739120  ...  7.657206e+17  1.812307e+16\n",
              "4      13775088   59057993680131144  ...  2.742922e+18  3.292217e+16\n",
              "\n",
              "[5 rows x 15 columns]"
            ]
          },
          "metadata": {},
          "execution_count": 16
        }
      ]
    },
    {
      "cell_type": "code",
      "source": [
        "X = main_dataframe.drop(columns=['block_number', 'miner', 'is_megabundle', 'id', 'created_at', 'account_address', 'profit_token_address', 'transaction_hash'])\n",
        "Y = main_dataframe['miner_reward']\n",
        "X.head()"
      ],
      "metadata": {
        "colab": {
          "base_uri": "https://localhost:8080/",
          "height": 206
        },
        "id": "dhsZEkpYvuEV",
        "outputId": "4937d27d-017f-4c85-913a-6138ae76f804"
      },
      "execution_count": 17,
      "outputs": [
        {
          "output_type": "execute_result",
          "data": {
            "text/html": [
              "<div>\n",
              "<style scoped>\n",
              "    .dataframe tbody tr th:only-of-type {\n",
              "        vertical-align: middle;\n",
              "    }\n",
              "\n",
              "    .dataframe tbody tr th {\n",
              "        vertical-align: top;\n",
              "    }\n",
              "\n",
              "    .dataframe thead th {\n",
              "        text-align: right;\n",
              "    }\n",
              "</style>\n",
              "<table border=\"1\" class=\"dataframe\">\n",
              "  <thead>\n",
              "    <tr style=\"text-align: right;\">\n",
              "      <th></th>\n",
              "      <th>miner_reward</th>\n",
              "      <th>coinbase_transfers</th>\n",
              "      <th>gas_used</th>\n",
              "      <th>gas_price</th>\n",
              "      <th>start_amount</th>\n",
              "      <th>end_amount</th>\n",
              "      <th>profit_amount</th>\n",
              "    </tr>\n",
              "  </thead>\n",
              "  <tbody>\n",
              "    <tr>\n",
              "      <th>0</th>\n",
              "      <td>125045451439363164</td>\n",
              "      <td>61786663982135467</td>\n",
              "      <td>1697891</td>\n",
              "      <td>73647514145</td>\n",
              "      <td>1.061023e+18</td>\n",
              "      <td>1.097619e+18</td>\n",
              "      <td>3.659599e+16</td>\n",
              "    </tr>\n",
              "    <tr>\n",
              "      <th>1</th>\n",
              "      <td>60167343345268217</td>\n",
              "      <td>0</td>\n",
              "      <td>880215</td>\n",
              "      <td>68355280636</td>\n",
              "      <td>6.764286e+16</td>\n",
              "      <td>8.050171e+16</td>\n",
              "      <td>1.285885e+16</td>\n",
              "    </tr>\n",
              "    <tr>\n",
              "      <th>2</th>\n",
              "      <td>60167343345268217</td>\n",
              "      <td>0</td>\n",
              "      <td>880215</td>\n",
              "      <td>68355280636</td>\n",
              "      <td>8.307637e+17</td>\n",
              "      <td>8.517443e+17</td>\n",
              "      <td>2.098058e+16</td>\n",
              "    </tr>\n",
              "    <tr>\n",
              "      <th>3</th>\n",
              "      <td>37221411604739120</td>\n",
              "      <td>0</td>\n",
              "      <td>523234</td>\n",
              "      <td>71137218920</td>\n",
              "      <td>7.475975e+17</td>\n",
              "      <td>7.657206e+17</td>\n",
              "      <td>1.812307e+16</td>\n",
              "    </tr>\n",
              "    <tr>\n",
              "      <th>4</th>\n",
              "      <td>59057993680131144</td>\n",
              "      <td>0</td>\n",
              "      <td>952410</td>\n",
              "      <td>62009002089</td>\n",
              "      <td>2.710000e+18</td>\n",
              "      <td>2.742922e+18</td>\n",
              "      <td>3.292217e+16</td>\n",
              "    </tr>\n",
              "  </tbody>\n",
              "</table>\n",
              "</div>"
            ],
            "text/plain": [
              "         miner_reward coinbase_transfers  ...    end_amount  profit_amount\n",
              "0  125045451439363164  61786663982135467  ...  1.097619e+18   3.659599e+16\n",
              "1   60167343345268217                  0  ...  8.050171e+16   1.285885e+16\n",
              "2   60167343345268217                  0  ...  8.517443e+17   2.098058e+16\n",
              "3   37221411604739120                  0  ...  7.657206e+17   1.812307e+16\n",
              "4   59057993680131144                  0  ...  2.742922e+18   3.292217e+16\n",
              "\n",
              "[5 rows x 7 columns]"
            ]
          },
          "metadata": {},
          "execution_count": 17
        }
      ]
    },
    {
      "cell_type": "code",
      "source": [
        "X = X.drop(columns=['miner_reward'])\n",
        "for i in range(len(X)):\n",
        "  for j in range((len(X.columns))):\n",
        "    X.iloc[i,j] = float(X.iloc[i,j])"
      ],
      "metadata": {
        "id": "L_UAolgrC7Hr"
      },
      "execution_count": 18,
      "outputs": []
    },
    {
      "cell_type": "code",
      "source": [
        "X = X.drop(columns=['miner_reward'])"
      ],
      "metadata": {
        "id": "d0OJj7dUHXV4"
      },
      "execution_count": 45,
      "outputs": []
    },
    {
      "cell_type": "code",
      "source": [
        "for col in X.columns:\n",
        "  X[col] = pd.to_numeric(X[col])\n",
        "X['profit_percent'] = X['end_amount']/X['start_amount'] - 1"
      ],
      "metadata": {
        "id": "5nEGLUYMw8XV"
      },
      "execution_count": 20,
      "outputs": []
    },
    {
      "cell_type": "code",
      "source": [
        "X.corr()"
      ],
      "metadata": {
        "colab": {
          "base_uri": "https://localhost:8080/",
          "height": 300
        },
        "id": "iE2pP30ZDYUs",
        "outputId": "3801c193-e7c4-40ec-e70a-77089b54021f"
      },
      "execution_count": 21,
      "outputs": [
        {
          "output_type": "execute_result",
          "data": {
            "text/html": [
              "<div>\n",
              "<style scoped>\n",
              "    .dataframe tbody tr th:only-of-type {\n",
              "        vertical-align: middle;\n",
              "    }\n",
              "\n",
              "    .dataframe tbody tr th {\n",
              "        vertical-align: top;\n",
              "    }\n",
              "\n",
              "    .dataframe thead th {\n",
              "        text-align: right;\n",
              "    }\n",
              "</style>\n",
              "<table border=\"1\" class=\"dataframe\">\n",
              "  <thead>\n",
              "    <tr style=\"text-align: right;\">\n",
              "      <th></th>\n",
              "      <th>miner_reward</th>\n",
              "      <th>coinbase_transfers</th>\n",
              "      <th>gas_used</th>\n",
              "      <th>gas_price</th>\n",
              "      <th>start_amount</th>\n",
              "      <th>end_amount</th>\n",
              "      <th>profit_amount</th>\n",
              "      <th>profit_percent</th>\n",
              "    </tr>\n",
              "  </thead>\n",
              "  <tbody>\n",
              "    <tr>\n",
              "      <th>miner_reward</th>\n",
              "      <td>1.000000</td>\n",
              "      <td>0.967701</td>\n",
              "      <td>0.078230</td>\n",
              "      <td>0.745705</td>\n",
              "      <td>0.036587</td>\n",
              "      <td>0.036708</td>\n",
              "      <td>0.004760</td>\n",
              "      <td>0.002115</td>\n",
              "    </tr>\n",
              "    <tr>\n",
              "      <th>coinbase_transfers</th>\n",
              "      <td>0.967701</td>\n",
              "      <td>1.000000</td>\n",
              "      <td>0.025532</td>\n",
              "      <td>0.744217</td>\n",
              "      <td>0.033939</td>\n",
              "      <td>0.033770</td>\n",
              "      <td>0.001633</td>\n",
              "      <td>0.002945</td>\n",
              "    </tr>\n",
              "    <tr>\n",
              "      <th>gas_used</th>\n",
              "      <td>0.078230</td>\n",
              "      <td>0.025532</td>\n",
              "      <td>1.000000</td>\n",
              "      <td>-0.022863</td>\n",
              "      <td>-0.000242</td>\n",
              "      <td>0.000562</td>\n",
              "      <td>0.007947</td>\n",
              "      <td>-0.010137</td>\n",
              "    </tr>\n",
              "    <tr>\n",
              "      <th>gas_price</th>\n",
              "      <td>0.745705</td>\n",
              "      <td>0.744217</td>\n",
              "      <td>-0.022863</td>\n",
              "      <td>1.000000</td>\n",
              "      <td>0.016701</td>\n",
              "      <td>0.016685</td>\n",
              "      <td>0.001476</td>\n",
              "      <td>0.010839</td>\n",
              "    </tr>\n",
              "    <tr>\n",
              "      <th>start_amount</th>\n",
              "      <td>0.036587</td>\n",
              "      <td>0.033939</td>\n",
              "      <td>-0.000242</td>\n",
              "      <td>0.016701</td>\n",
              "      <td>1.000000</td>\n",
              "      <td>0.994909</td>\n",
              "      <td>0.046902</td>\n",
              "      <td>-0.000254</td>\n",
              "    </tr>\n",
              "    <tr>\n",
              "      <th>end_amount</th>\n",
              "      <td>0.036708</td>\n",
              "      <td>0.033770</td>\n",
              "      <td>0.000562</td>\n",
              "      <td>0.016685</td>\n",
              "      <td>0.994909</td>\n",
              "      <td>1.000000</td>\n",
              "      <td>0.147334</td>\n",
              "      <td>-0.000267</td>\n",
              "    </tr>\n",
              "    <tr>\n",
              "      <th>profit_amount</th>\n",
              "      <td>0.004760</td>\n",
              "      <td>0.001633</td>\n",
              "      <td>0.007947</td>\n",
              "      <td>0.001476</td>\n",
              "      <td>0.046902</td>\n",
              "      <td>0.147334</td>\n",
              "      <td>1.000000</td>\n",
              "      <td>-0.000154</td>\n",
              "    </tr>\n",
              "    <tr>\n",
              "      <th>profit_percent</th>\n",
              "      <td>0.002115</td>\n",
              "      <td>0.002945</td>\n",
              "      <td>-0.010137</td>\n",
              "      <td>0.010839</td>\n",
              "      <td>-0.000254</td>\n",
              "      <td>-0.000267</td>\n",
              "      <td>-0.000154</td>\n",
              "      <td>1.000000</td>\n",
              "    </tr>\n",
              "  </tbody>\n",
              "</table>\n",
              "</div>"
            ],
            "text/plain": [
              "                    miner_reward  ...  profit_percent\n",
              "miner_reward            1.000000  ...        0.002115\n",
              "coinbase_transfers      0.967701  ...        0.002945\n",
              "gas_used                0.078230  ...       -0.010137\n",
              "gas_price               0.745705  ...        0.010839\n",
              "start_amount            0.036587  ...       -0.000254\n",
              "end_amount              0.036708  ...       -0.000267\n",
              "profit_amount           0.004760  ...       -0.000154\n",
              "profit_percent          0.002115  ...        1.000000\n",
              "\n",
              "[8 rows x 8 columns]"
            ]
          },
          "metadata": {},
          "execution_count": 21
        }
      ]
    },
    {
      "cell_type": "code",
      "source": [
        "from sklearn.model_selection import train_test_split\n",
        "X_train, X_test, y_train, y_test = train_test_split(X, Y, test_size=.2)"
      ],
      "metadata": {
        "id": "FsSjjmOGxtLN"
      },
      "execution_count": 46,
      "outputs": []
    },
    {
      "cell_type": "code",
      "source": [
        "from sklearn.model_selection import cross_val_score\n",
        "from sklearn.tree import DecisionTreeClassifier\n",
        "decisionTree = DecisionTreeClassifier(max_depth=5)\n",
        "k_folds = cross_val_score(decisionTree, X, Y, cv=10)"
      ],
      "metadata": {
        "colab": {
          "base_uri": "https://localhost:8080/"
        },
        "id": "oy9AGUwhEJQs",
        "outputId": "d1c74e43-a694-439a-c255-54406830bf5b"
      },
      "execution_count": 26,
      "outputs": [
        {
          "output_type": "stream",
          "name": "stderr",
          "text": [
            "/usr/local/lib/python3.7/dist-packages/sklearn/model_selection/_split.py:680: UserWarning: The least populated class in y has only 1 members, which is less than n_splits=10.\n",
            "  UserWarning,\n"
          ]
        }
      ]
    },
    {
      "cell_type": "code",
      "source": [
        "decisionTree.fit(X, Y)\n",
        "sorted = decisionTree.feature_importances_.argsort()\n",
        "plt.barh(X.columns[sorted], decisionTree.feature_importances_[sorted])\n",
        "plt.title('Decision Tree Feature Importance', fontsize=14)\n",
        "plt.figure(figsize=(16,15))"
      ],
      "metadata": {
        "colab": {
          "base_uri": "https://localhost:8080/",
          "height": 317
        },
        "id": "6J1Ug6vNEzGV",
        "outputId": "a3378836-1a35-49b6-c57a-3fc2f6f06524"
      },
      "execution_count": 47,
      "outputs": [
        {
          "output_type": "execute_result",
          "data": {
            "text/plain": [
              "<Figure size 1152x1080 with 0 Axes>"
            ]
          },
          "metadata": {},
          "execution_count": 47
        },
        {
          "output_type": "display_data",
          "data": {
            "image/png": "[encoded data removed]",
            "text/plain": [
              "<Figure size 432x288 with 1 Axes>"
            ]
          },
          "metadata": {
            "needs_background": "light"
          }
        },
        {
          "output_type": "display_data",
          "data": {
            "text/plain": [
              "<Figure size 1152x1080 with 0 Axes>"
            ]
          },
          "metadata": {}
        }
      ]
    },
    {
      "cell_type": "code",
      "source": [
        "from sklearn.ensemble import RandomForestClassifier\n",
        "from sklearn.model_selection import cross_val_score, GridSearchCV\n",
        "# grid search\n",
        "n_estimators = [90, 150]\n",
        "criterion = ['gini']\n",
        "max_features = ['sqrt']\n",
        "max_depth = [4,5] \n",
        "min_samples_split = [10,70]\n",
        "\n",
        "param_grid = {'n_estimators': n_estimators,\n",
        "              'criterion' : criterion,\n",
        "              'max_features': max_features,\n",
        "              'max_depth': max_depth,\n",
        "              'min_samples_split': min_samples_split}\n",
        "\n",
        "randomForest = RandomForestClassifier()\n",
        "grid = GridSearchCV(estimator=randomForest, param_grid=param_grid, cv=12, verbose=4, n_jobs=4)\n",
        "grid.fit(X, Y)"
      ],
      "metadata": {
        "id": "h3pHSa0gG4hW"
      },
      "execution_count": null,
      "outputs": []
    },
    {
      "cell_type": "code",
      "source": [
        "randomForest = RandomForestClassifier()\n",
        "randomForest.fit(X_train, y_train)"
      ],
      "metadata": {
        "colab": {
          "base_uri": "https://localhost:8080/"
        },
        "id": "lPRaXcbXGrnC",
        "outputId": "94db5aa6-586c-48c7-962c-9dcd404f565a"
      },
      "execution_count": 48,
      "outputs": [
        {
          "output_type": "execute_result",
          "data": {
            "text/plain": [
              "RandomForestClassifier()"
            ]
          },
          "metadata": {},
          "execution_count": 48
        }
      ]
    },
    {
      "cell_type": "code",
      "source": [
        "from sklearn import tree, metrics\n",
        "from sklearn.metrics import accuracy_score\n",
        "predictions = randomForest.predict(X_test)\n",
        "print('Random Forest Accuracy: ' + str(round(100*round(metrics.accuracy_score(y_test, predictions),3),3))[:4] + '%')"
      ],
      "metadata": {
        "colab": {
          "base_uri": "https://localhost:8080/"
        },
        "id": "QGs8oVFbF42t",
        "outputId": "673dff86-05fc-45a9-efee-8ec17625227c"
      },
      "execution_count": 49,
      "outputs": [
        {
          "output_type": "stream",
          "name": "stdout",
          "text": [
            "Random Forest Accuracy: 80.2%\n"
          ]
        }
      ]
    },
    {
      "cell_type": "code",
      "source": [
        "from sklearn.linear_model import LogisticRegression"
      ],
      "metadata": {
        "id": "m7kHfHR4Gaot"
      },
      "execution_count": 42,
      "outputs": []
    },
    {
      "cell_type": "code",
      "source": [
        "regularizationConstants = []\n",
        "accuracies = []\n",
        "\n",
        "for c in range(1,10,1):\n",
        "  C = c/10\n",
        "  logisticRegression = LogisticRegression(penalty = 'l2', C=C)\n",
        "  k_folds = cross_val_score(logisticRegression, X_train, y_train, cv=2)\n",
        "  regularizationConstants.append(C)\n",
        "  accuracies.append(k_folds.mean())\n",
        "\n",
        "best_C = regularizationConstants[accuracies.index(max(accuracies))]"
      ],
      "metadata": {
        "id": "xZi-O7B4HjJe"
      },
      "execution_count": null,
      "outputs": []
    },
    {
      "cell_type": "code",
      "source": [
        "logisticRegression = LogisticRegression(penalty = 'l2', C=best_C)\n",
        "logisticRegression.fit(X_train, y_train)\n",
        "predictions = logisticRegression.predict(X_test)\n",
        "print('Logistic Regression Accuracy: ' + str(round(100*round(metrics.accuracy_score(y_test, predictions),3),3))[:4] + '%')"
      ],
      "metadata": {
        "id": "DZSHlAx3GezE"
      },
      "execution_count": null,
      "outputs": []
    }
  ]
}