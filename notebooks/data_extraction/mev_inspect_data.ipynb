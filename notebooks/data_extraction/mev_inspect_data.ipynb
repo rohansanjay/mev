{
 "cells": [
  {
   "cell_type": "code",
   "execution_count": 1,
   "id": "altered-currency",
   "metadata": {},
   "outputs": [],
   "source": [
    "import psycopg2\n",
    "import pandas as pd"
   ]
  },
  {
   "cell_type": "code",
   "execution_count": 34,
   "id": "lucky-bangkok",
   "metadata": {},
   "outputs": [],
   "source": [
    "# https://docs.flashbots.net/flashbots-data/mev-inspect-py/overview"
   ]
  },
  {
   "cell_type": "code",
   "execution_count": 12,
   "id": "amino-jonathan",
   "metadata": {},
   "outputs": [],
   "source": [
    "param_dic = {\n",
    "    \"host\"      : \"localhost\",\n",
    "    \"database\"  : \"mev_inspect\",\n",
    "    \"user\"      : \"postgres\",\n",
    "    \"password\"  : \"password\",\n",
    "    \"port\"      : \"5432\"\n",
    "}\n",
    "\n",
    "conn = psycopg2.connect(\n",
    "    database=param_dic['database'], \n",
    "    user=param_dic['user'], \n",
    "    password=param_dic['password'], \n",
    "    host=param_dic['host'], \n",
    "    port=param_dic['port']\n",
    ")"
   ]
  },
  {
   "cell_type": "code",
   "execution_count": 30,
   "id": "english-coaching",
   "metadata": {},
   "outputs": [],
   "source": [
    "cur = conn.cursor()\n",
    "cur.execute(\"SELECT table_name FROM information_schema.tables WHERE table_schema='public'\")\n",
    "table_names = cur.fetchall()\n",
    "table_names = [name_tuple[0] for name_tuple in table_names]\n",
    "cur.close()"
   ]
  },
  {
   "cell_type": "code",
   "execution_count": 21,
   "id": "arabic-tractor",
   "metadata": {},
   "outputs": [],
   "source": [
    "blocks = pd.read_sql_query('select * from blocks',con=conn)"
   ]
  },
  {
   "cell_type": "code",
   "execution_count": 22,
   "id": "physical-flashing",
   "metadata": {},
   "outputs": [
    {
     "data": {
      "text/html": [
       "<div>\n",
       "<style scoped>\n",
       "    .dataframe tbody tr th:only-of-type {\n",
       "        vertical-align: middle;\n",
       "    }\n",
       "\n",
       "    .dataframe tbody tr th {\n",
       "        vertical-align: top;\n",
       "    }\n",
       "\n",
       "    .dataframe thead th {\n",
       "        text-align: right;\n",
       "    }\n",
       "</style>\n",
       "<table border=\"1\" class=\"dataframe\">\n",
       "  <thead>\n",
       "    <tr style=\"text-align: right;\">\n",
       "      <th></th>\n",
       "      <th>block_number</th>\n",
       "      <th>block_timestamp</th>\n",
       "    </tr>\n",
       "  </thead>\n",
       "  <tbody>\n",
       "    <tr>\n",
       "      <th>0</th>\n",
       "      <td>12914947.0</td>\n",
       "      <td>2021-07-28 14:29:44</td>\n",
       "    </tr>\n",
       "    <tr>\n",
       "      <th>1</th>\n",
       "      <td>12914949.0</td>\n",
       "      <td>2021-07-28 14:30:17</td>\n",
       "    </tr>\n",
       "    <tr>\n",
       "      <th>2</th>\n",
       "      <td>12914944.0</td>\n",
       "      <td>2021-07-28 14:28:24</td>\n",
       "    </tr>\n",
       "    <tr>\n",
       "      <th>3</th>\n",
       "      <td>12914946.0</td>\n",
       "      <td>2021-07-28 14:29:36</td>\n",
       "    </tr>\n",
       "    <tr>\n",
       "      <th>4</th>\n",
       "      <td>12914945.0</td>\n",
       "      <td>2021-07-28 14:29:30</td>\n",
       "    </tr>\n",
       "    <tr>\n",
       "      <th>...</th>\n",
       "      <td>...</td>\n",
       "      <td>...</td>\n",
       "    </tr>\n",
       "    <tr>\n",
       "      <th>5974</th>\n",
       "      <td>13781053.0</td>\n",
       "      <td>2021-12-11 02:06:38</td>\n",
       "    </tr>\n",
       "    <tr>\n",
       "      <th>5975</th>\n",
       "      <td>13781047.0</td>\n",
       "      <td>2021-12-11 02:05:30</td>\n",
       "    </tr>\n",
       "    <tr>\n",
       "      <th>5976</th>\n",
       "      <td>13781052.0</td>\n",
       "      <td>2021-12-11 02:06:21</td>\n",
       "    </tr>\n",
       "    <tr>\n",
       "      <th>5977</th>\n",
       "      <td>13781055.0</td>\n",
       "      <td>2021-12-11 02:07:10</td>\n",
       "    </tr>\n",
       "    <tr>\n",
       "      <th>5978</th>\n",
       "      <td>13781056.0</td>\n",
       "      <td>2021-12-11 02:07:13</td>\n",
       "    </tr>\n",
       "  </tbody>\n",
       "</table>\n",
       "<p>5979 rows × 2 columns</p>\n",
       "</div>"
      ],
      "text/plain": [
       "      block_number     block_timestamp\n",
       "0       12914947.0 2021-07-28 14:29:44\n",
       "1       12914949.0 2021-07-28 14:30:17\n",
       "2       12914944.0 2021-07-28 14:28:24\n",
       "3       12914946.0 2021-07-28 14:29:36\n",
       "4       12914945.0 2021-07-28 14:29:30\n",
       "...            ...                 ...\n",
       "5974    13781053.0 2021-12-11 02:06:38\n",
       "5975    13781047.0 2021-12-11 02:05:30\n",
       "5976    13781052.0 2021-12-11 02:06:21\n",
       "5977    13781055.0 2021-12-11 02:07:10\n",
       "5978    13781056.0 2021-12-11 02:07:13\n",
       "\n",
       "[5979 rows x 2 columns]"
      ]
     },
     "execution_count": 22,
     "metadata": {},
     "output_type": "execute_result"
    }
   ],
   "source": [
    "blocks"
   ]
  },
  {
   "cell_type": "code",
   "execution_count": 25,
   "id": "extra-insertion",
   "metadata": {},
   "outputs": [
    {
     "data": {
      "text/html": [
       "<div>\n",
       "<style scoped>\n",
       "    .dataframe tbody tr th:only-of-type {\n",
       "        vertical-align: middle;\n",
       "    }\n",
       "\n",
       "    .dataframe tbody tr th {\n",
       "        vertical-align: top;\n",
       "    }\n",
       "\n",
       "    .dataframe thead th {\n",
       "        text-align: right;\n",
       "    }\n",
       "</style>\n",
       "<table border=\"1\" class=\"dataframe\">\n",
       "  <thead>\n",
       "    <tr style=\"text-align: right;\">\n",
       "      <th></th>\n",
       "      <th>block_number</th>\n",
       "      <th>block_timestamp</th>\n",
       "    </tr>\n",
       "  </thead>\n",
       "  <tbody>\n",
       "    <tr>\n",
       "      <th>10</th>\n",
       "      <td>13775086.0</td>\n",
       "      <td>2021-12-10 03:56:34</td>\n",
       "    </tr>\n",
       "    <tr>\n",
       "      <th>11</th>\n",
       "      <td>13775084.0</td>\n",
       "      <td>2021-12-10 03:56:11</td>\n",
       "    </tr>\n",
       "    <tr>\n",
       "      <th>12</th>\n",
       "      <td>13775087.0</td>\n",
       "      <td>2021-12-10 03:56:50</td>\n",
       "    </tr>\n",
       "    <tr>\n",
       "      <th>13</th>\n",
       "      <td>13775083.0</td>\n",
       "      <td>2021-12-10 03:55:43</td>\n",
       "    </tr>\n",
       "    <tr>\n",
       "      <th>14</th>\n",
       "      <td>13775085.0</td>\n",
       "      <td>2021-12-10 03:56:15</td>\n",
       "    </tr>\n",
       "    <tr>\n",
       "      <th>...</th>\n",
       "      <td>...</td>\n",
       "      <td>...</td>\n",
       "    </tr>\n",
       "    <tr>\n",
       "      <th>5419</th>\n",
       "      <td>13780496.0</td>\n",
       "      <td>2021-12-10 23:57:45</td>\n",
       "    </tr>\n",
       "    <tr>\n",
       "      <th>5420</th>\n",
       "      <td>13780497.0</td>\n",
       "      <td>2021-12-10 23:57:59</td>\n",
       "    </tr>\n",
       "    <tr>\n",
       "      <th>5421</th>\n",
       "      <td>13780499.0</td>\n",
       "      <td>2021-12-10 23:58:43</td>\n",
       "    </tr>\n",
       "    <tr>\n",
       "      <th>5422</th>\n",
       "      <td>13780500.0</td>\n",
       "      <td>2021-12-10 23:59:32</td>\n",
       "    </tr>\n",
       "    <tr>\n",
       "      <th>5423</th>\n",
       "      <td>13780501.0</td>\n",
       "      <td>2021-12-10 23:59:48</td>\n",
       "    </tr>\n",
       "  </tbody>\n",
       "</table>\n",
       "<p>5414 rows × 2 columns</p>\n",
       "</div>"
      ],
      "text/plain": [
       "      block_number     block_timestamp\n",
       "10      13775086.0 2021-12-10 03:56:34\n",
       "11      13775084.0 2021-12-10 03:56:11\n",
       "12      13775087.0 2021-12-10 03:56:50\n",
       "13      13775083.0 2021-12-10 03:55:43\n",
       "14      13775085.0 2021-12-10 03:56:15\n",
       "...            ...                 ...\n",
       "5419    13780496.0 2021-12-10 23:57:45\n",
       "5420    13780497.0 2021-12-10 23:57:59\n",
       "5421    13780499.0 2021-12-10 23:58:43\n",
       "5422    13780500.0 2021-12-10 23:59:32\n",
       "5423    13780501.0 2021-12-10 23:59:48\n",
       "\n",
       "[5414 rows x 2 columns]"
      ]
     },
     "execution_count": 25,
     "metadata": {},
     "output_type": "execute_result"
    }
   ],
   "source": [
    "blocks[(blocks['block_timestamp'] > '2021-12-09') & (blocks['block_timestamp'] < '2021-12-11')]"
   ]
  },
  {
   "cell_type": "code",
   "execution_count": 26,
   "id": "regular-mirror",
   "metadata": {},
   "outputs": [
    {
     "data": {
      "text/plain": [
       "['transfers',\n",
       " 'blocks',\n",
       " 'alembic_version',\n",
       " 'classified_traces',\n",
       " 'arbitrages',\n",
       " 'arbitrage_swaps',\n",
       " 'swaps',\n",
       " 'miner_payments',\n",
       " 'latest_block_update',\n",
       " 'liquidations',\n",
       " 'punk_snipes',\n",
       " 'punk_bids',\n",
       " 'punk_bid_acceptances',\n",
       " 'prices']"
      ]
     },
     "execution_count": 26,
     "metadata": {},
     "output_type": "execute_result"
    }
   ],
   "source": [
    "table_names"
   ]
  },
  {
   "cell_type": "code",
   "execution_count": 31,
   "id": "secret-recommendation",
   "metadata": {},
   "outputs": [],
   "source": [
    "table_names.remove('alembic_version')\n",
    "table_names.remove('classified_traces')"
   ]
  },
  {
   "cell_type": "code",
   "execution_count": 33,
   "id": "racial-token",
   "metadata": {},
   "outputs": [],
   "source": [
    "for table_name in table_names:\n",
    "    df = pd.read_sql_query('select * from {}'.format(table_name), con=conn)\n",
    "    df.to_csv('../../data/mev_inspect/{}.csv'.format(table_name), index=False)"
   ]
  },
  {
   "cell_type": "code",
   "execution_count": 11,
   "id": "computational-atlantic",
   "metadata": {},
   "outputs": [],
   "source": [
    "conn.close()"
   ]
  }
 ],
 "metadata": {
  "kernelspec": {
   "display_name": "Python 3",
   "language": "python",
   "name": "python3"
  },
  "language_info": {
   "codemirror_mode": {
    "name": "ipython",
    "version": 3
   },
   "file_extension": ".py",
   "mimetype": "text/x-python",
   "name": "python",
   "nbconvert_exporter": "python",
   "pygments_lexer": "ipython3",
   "version": "3.9.4"
  }
 },
 "nbformat": 4,
 "nbformat_minor": 5
}
