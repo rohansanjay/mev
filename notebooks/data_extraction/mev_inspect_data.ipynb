{
 "cells": [
  {
   "cell_type": "code",
   "execution_count": 21,
   "id": "average-fifteen",
   "metadata": {},
   "outputs": [],
   "source": [
    "import psycopg2\n",
    "import pandas as pd"
   ]
  },
  {
   "cell_type": "code",
   "execution_count": 22,
   "id": "anonymous-remains",
   "metadata": {},
   "outputs": [],
   "source": [
    "# https://docs.flashbots.net/flashbots-data/mev-inspect-py/overview"
   ]
  },
  {
   "cell_type": "code",
   "execution_count": 23,
   "id": "looking-nicholas",
   "metadata": {},
   "outputs": [],
   "source": [
    "username = ! kubectl get secret mev-inspect-db-credentials -o jsonpath=\"{.data.username}\" | base64 --decode\n",
    "password = ! kubectl get secret mev-inspect-db-credentials -o jsonpath=\"{.data.password}\" | base64 --decode\n",
    "\n",
    "param_dic = {\n",
    "    \"host\"      : \"localhost\",\n",
    "    \"database\"  : \"mev_inspect\",\n",
    "    \"user\"      : username[0],\n",
    "    \"password\"  : password[0],\n",
    "    \"port\"      : \"5432\"\n",
    "}\n",
    "\n",
    "conn = psycopg2.connect(\n",
    "    database    =param_dic['database'], \n",
    "    user        =param_dic['user'], \n",
    "    password    =param_dic['password'], \n",
    "    host        =param_dic['host'], \n",
    "    port        =param_dic['port']\n",
    ")"
   ]
  },
  {
   "cell_type": "code",
   "execution_count": 24,
   "id": "revolutionary-trust",
   "metadata": {},
   "outputs": [],
   "source": [
    "cur = conn.cursor()\n",
    "cur.execute(\"SELECT table_name FROM information_schema.tables WHERE table_schema='public'\")\n",
    "table_names = cur.fetchall()\n",
    "table_names = [name_tuple[0] for name_tuple in table_names]\n",
    "cur.close()"
   ]
  },
  {
   "cell_type": "code",
   "execution_count": 25,
   "id": "earned-yemen",
   "metadata": {},
   "outputs": [],
   "source": [
    "blocks = pd.read_sql_query('select * from blocks',con=conn)"
   ]
  },
  {
   "cell_type": "code",
   "execution_count": 26,
   "id": "opened-federation",
   "metadata": {},
   "outputs": [
    {
     "data": {
      "text/html": [
       "<div>\n",
       "<style scoped>\n",
       "    .dataframe tbody tr th:only-of-type {\n",
       "        vertical-align: middle;\n",
       "    }\n",
       "\n",
       "    .dataframe tbody tr th {\n",
       "        vertical-align: top;\n",
       "    }\n",
       "\n",
       "    .dataframe thead th {\n",
       "        text-align: right;\n",
       "    }\n",
       "</style>\n",
       "<table border=\"1\" class=\"dataframe\">\n",
       "  <thead>\n",
       "    <tr style=\"text-align: right;\">\n",
       "      <th></th>\n",
       "      <th>block_number</th>\n",
       "      <th>block_timestamp</th>\n",
       "    </tr>\n",
       "  </thead>\n",
       "  <tbody>\n",
       "    <tr>\n",
       "      <th>0</th>\n",
       "      <td>12914947.0</td>\n",
       "      <td>2021-07-28 14:29:44</td>\n",
       "    </tr>\n",
       "    <tr>\n",
       "      <th>1</th>\n",
       "      <td>12914949.0</td>\n",
       "      <td>2021-07-28 14:30:17</td>\n",
       "    </tr>\n",
       "    <tr>\n",
       "      <th>2</th>\n",
       "      <td>12914944.0</td>\n",
       "      <td>2021-07-28 14:28:24</td>\n",
       "    </tr>\n",
       "    <tr>\n",
       "      <th>3</th>\n",
       "      <td>12914946.0</td>\n",
       "      <td>2021-07-28 14:29:36</td>\n",
       "    </tr>\n",
       "    <tr>\n",
       "      <th>4</th>\n",
       "      <td>12914945.0</td>\n",
       "      <td>2021-07-28 14:29:30</td>\n",
       "    </tr>\n",
       "    <tr>\n",
       "      <th>...</th>\n",
       "      <td>...</td>\n",
       "      <td>...</td>\n",
       "    </tr>\n",
       "    <tr>\n",
       "      <th>7053</th>\n",
       "      <td>13774095.0</td>\n",
       "      <td>2021-12-10 00:04:25</td>\n",
       "    </tr>\n",
       "    <tr>\n",
       "      <th>7054</th>\n",
       "      <td>13774092.0</td>\n",
       "      <td>2021-12-10 00:04:17</td>\n",
       "    </tr>\n",
       "    <tr>\n",
       "      <th>7055</th>\n",
       "      <td>13774099.0</td>\n",
       "      <td>2021-12-10 00:06:01</td>\n",
       "    </tr>\n",
       "    <tr>\n",
       "      <th>7056</th>\n",
       "      <td>13774097.0</td>\n",
       "      <td>2021-12-10 00:04:55</td>\n",
       "    </tr>\n",
       "    <tr>\n",
       "      <th>7057</th>\n",
       "      <td>13774098.0</td>\n",
       "      <td>2021-12-10 00:05:11</td>\n",
       "    </tr>\n",
       "  </tbody>\n",
       "</table>\n",
       "<p>7058 rows × 2 columns</p>\n",
       "</div>"
      ],
      "text/plain": [
       "      block_number     block_timestamp\n",
       "0       12914947.0 2021-07-28 14:29:44\n",
       "1       12914949.0 2021-07-28 14:30:17\n",
       "2       12914944.0 2021-07-28 14:28:24\n",
       "3       12914946.0 2021-07-28 14:29:36\n",
       "4       12914945.0 2021-07-28 14:29:30\n",
       "...            ...                 ...\n",
       "7053    13774095.0 2021-12-10 00:04:25\n",
       "7054    13774092.0 2021-12-10 00:04:17\n",
       "7055    13774099.0 2021-12-10 00:06:01\n",
       "7056    13774097.0 2021-12-10 00:04:55\n",
       "7057    13774098.0 2021-12-10 00:05:11\n",
       "\n",
       "[7058 rows x 2 columns]"
      ]
     },
     "execution_count": 26,
     "metadata": {},
     "output_type": "execute_result"
    }
   ],
   "source": [
    "blocks"
   ]
  },
  {
   "cell_type": "code",
   "execution_count": 20,
   "id": "planned-privilege",
   "metadata": {},
   "outputs": [
    {
     "data": {
      "text/html": [
       "<div>\n",
       "<style scoped>\n",
       "    .dataframe tbody tr th:only-of-type {\n",
       "        vertical-align: middle;\n",
       "    }\n",
       "\n",
       "    .dataframe tbody tr th {\n",
       "        vertical-align: top;\n",
       "    }\n",
       "\n",
       "    .dataframe thead th {\n",
       "        text-align: right;\n",
       "    }\n",
       "</style>\n",
       "<table border=\"1\" class=\"dataframe\">\n",
       "  <thead>\n",
       "    <tr style=\"text-align: right;\">\n",
       "      <th></th>\n",
       "      <th>block_number</th>\n",
       "      <th>block_timestamp</th>\n",
       "    </tr>\n",
       "  </thead>\n",
       "  <tbody>\n",
       "    <tr>\n",
       "      <th>7032</th>\n",
       "      <td>13774075.0</td>\n",
       "      <td>2021-12-10 00:00:22</td>\n",
       "    </tr>\n",
       "    <tr>\n",
       "      <th>7033</th>\n",
       "      <td>13774076.0</td>\n",
       "      <td>2021-12-10 00:00:24</td>\n",
       "    </tr>\n",
       "    <tr>\n",
       "      <th>7035</th>\n",
       "      <td>13774077.0</td>\n",
       "      <td>2021-12-10 00:00:30</td>\n",
       "    </tr>\n",
       "    <tr>\n",
       "      <th>7036</th>\n",
       "      <td>13774078.0</td>\n",
       "      <td>2021-12-10 00:00:52</td>\n",
       "    </tr>\n",
       "    <tr>\n",
       "      <th>7043</th>\n",
       "      <td>13774079.0</td>\n",
       "      <td>2021-12-10 00:00:55</td>\n",
       "    </tr>\n",
       "    <tr>\n",
       "      <th>...</th>\n",
       "      <td>...</td>\n",
       "      <td>...</td>\n",
       "    </tr>\n",
       "    <tr>\n",
       "      <th>5418</th>\n",
       "      <td>13780497.0</td>\n",
       "      <td>2021-12-10 23:57:59</td>\n",
       "    </tr>\n",
       "    <tr>\n",
       "      <th>5415</th>\n",
       "      <td>13780498.0</td>\n",
       "      <td>2021-12-10 23:58:20</td>\n",
       "    </tr>\n",
       "    <tr>\n",
       "      <th>5419</th>\n",
       "      <td>13780499.0</td>\n",
       "      <td>2021-12-10 23:58:43</td>\n",
       "    </tr>\n",
       "    <tr>\n",
       "      <th>5420</th>\n",
       "      <td>13780500.0</td>\n",
       "      <td>2021-12-10 23:59:32</td>\n",
       "    </tr>\n",
       "    <tr>\n",
       "      <th>5421</th>\n",
       "      <td>13780501.0</td>\n",
       "      <td>2021-12-10 23:59:48</td>\n",
       "    </tr>\n",
       "  </tbody>\n",
       "</table>\n",
       "<p>6418 rows × 2 columns</p>\n",
       "</div>"
      ],
      "text/plain": [
       "      block_number     block_timestamp\n",
       "7032    13774075.0 2021-12-10 00:00:22\n",
       "7033    13774076.0 2021-12-10 00:00:24\n",
       "7035    13774077.0 2021-12-10 00:00:30\n",
       "7036    13774078.0 2021-12-10 00:00:52\n",
       "7043    13774079.0 2021-12-10 00:00:55\n",
       "...            ...                 ...\n",
       "5418    13780497.0 2021-12-10 23:57:59\n",
       "5415    13780498.0 2021-12-10 23:58:20\n",
       "5419    13780499.0 2021-12-10 23:58:43\n",
       "5420    13780500.0 2021-12-10 23:59:32\n",
       "5421    13780501.0 2021-12-10 23:59:48\n",
       "\n",
       "[6418 rows x 2 columns]"
      ]
     },
     "execution_count": 20,
     "metadata": {},
     "output_type": "execute_result"
    }
   ],
   "source": [
    "blocks[(blocks['block_timestamp'] >= '2021-12-10') & (blocks['block_timestamp'] < '2021-12-11')].sort_values(['block_timestamp'])"
   ]
  },
  {
   "cell_type": "code",
   "execution_count": 27,
   "id": "civil-samuel",
   "metadata": {},
   "outputs": [
    {
     "data": {
      "text/plain": [
       "['transfers',\n",
       " 'blocks',\n",
       " 'alembic_version',\n",
       " 'classified_traces',\n",
       " 'arbitrages',\n",
       " 'arbitrage_swaps',\n",
       " 'swaps',\n",
       " 'miner_payments',\n",
       " 'latest_block_update',\n",
       " 'liquidations',\n",
       " 'punk_snipes',\n",
       " 'punk_bids',\n",
       " 'punk_bid_acceptances',\n",
       " 'prices']"
      ]
     },
     "execution_count": 27,
     "metadata": {},
     "output_type": "execute_result"
    }
   ],
   "source": [
    "table_names"
   ]
  },
  {
   "cell_type": "code",
   "execution_count": 28,
   "id": "revised-bedroom",
   "metadata": {},
   "outputs": [],
   "source": [
    "table_names.remove('alembic_version')\n",
    "table_names.remove('classified_traces')"
   ]
  },
  {
   "cell_type": "code",
   "execution_count": 29,
   "id": "amino-carbon",
   "metadata": {},
   "outputs": [
    {
     "data": {
      "text/plain": [
       "['transfers',\n",
       " 'blocks',\n",
       " 'arbitrages',\n",
       " 'arbitrage_swaps',\n",
       " 'swaps',\n",
       " 'miner_payments',\n",
       " 'latest_block_update',\n",
       " 'liquidations',\n",
       " 'punk_snipes',\n",
       " 'punk_bids',\n",
       " 'punk_bid_acceptances',\n",
       " 'prices']"
      ]
     },
     "execution_count": 29,
     "metadata": {},
     "output_type": "execute_result"
    }
   ],
   "source": [
    "table_names"
   ]
  },
  {
   "cell_type": "code",
   "execution_count": 63,
   "id": "hollywood-identity",
   "metadata": {},
   "outputs": [],
   "source": [
    "for table_name in table_names:\n",
    "    df = pd.read_sql_query('select * from {}'.format(table_name), con=conn)\n",
    "    df.to_csv('../../data/mev_inspect/{}.csv'.format(table_name), index=False)"
   ]
  },
  {
   "cell_type": "code",
   "execution_count": 30,
   "id": "maritime-render",
   "metadata": {},
   "outputs": [],
   "source": [
    "conn.close()"
   ]
  }
 ],
 "metadata": {
  "kernelspec": {
   "display_name": "Python 3",
   "language": "python",
   "name": "python3"
  },
  "language_info": {
   "codemirror_mode": {
    "name": "ipython",
    "version": 3
   },
   "file_extension": ".py",
   "mimetype": "text/x-python",
   "name": "python",
   "nbconvert_exporter": "python",
   "pygments_lexer": "ipython3",
   "version": "3.9.4"
  }
 },
 "nbformat": 4,
 "nbformat_minor": 5
}
