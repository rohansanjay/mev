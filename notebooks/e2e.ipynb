{
 "metadata": {
  "language_info": {
   "codemirror_mode": {
    "name": "ipython",
    "version": 3
   },
   "file_extension": ".py",
   "mimetype": "text/x-python",
   "name": "python",
   "nbconvert_exporter": "python",
   "pygments_lexer": "ipython3",
   "version": "3.8.1-final"
  },
  "orig_nbformat": 2,
  "kernelspec": {
   "name": "python3",
   "display_name": "Python 3.8.1 64-bit",
   "metadata": {
    "interpreter": {
     "hash": "aee8b7b246df8f9039afb4144a1f6fd8d2ca17a180786b69acc140d282b71a49"
    }
   }
  }
 },
 "nbformat": 4,
 "nbformat_minor": 2,
 "cells": [
  {
   "cell_type": "code",
   "execution_count": 2,
   "metadata": {},
   "outputs": [],
   "source": [
    "import projectpath\n",
    "import pandas as pd \n",
    "import numpy as np \n",
    "import d01_explore as api\n",
    "improt d02_db as dbcreation "
   ]
  },
  {
   "cell_type": "code",
   "execution_count": 4,
   "metadata": {},
   "outputs": [],
   "source": [
    "# parametrization \n",
    "\n",
    "# pickle save-files \n",
    "#encrypted files \n",
    "\n",
    "username = ! kubectl get secret mev-inspect-db-credentials -o jsonpath=\"{.data.username}\" | base64 --decode\n",
    "password = ! kubectl get secret mev-inspect-db-credentials -o jsonpath=\"{.data.password}\" | base64 --decode\n",
    "\n",
    "e2e_data_path = '../data/e2e_data/'\n",
    "blocks = e2e_data_path+'blocks.pickle'\n",
    "transactions = e2e_data_path+'transactions.pickle'\n",
    "block_number = 20 "
   ]
  },
  {
   "cell_type": "code",
   "execution_count": 6,
   "metadata": {},
   "outputs": [
    {
     "output_type": "stream",
     "name": "stdout",
     "text": [
      "API called for 20 blocks.\n"
     ]
    }
   ],
   "source": [
    "api.callapi(blocks,transactions,block_number)"
   ]
  },
  {
   "cell_type": "code",
   "execution_count": 8,
   "metadata": {},
   "outputs": [
    {
     "output_type": "execute_result",
     "data": {
      "text/plain": [
       "   block_number         miner_reward  \\\n",
       "0      13816967    20163171583655718   \n",
       "1      13816972     6765153000000000   \n",
       "2      13816975   153085423604402612   \n",
       "3      13816976    15456312348616656   \n",
       "4      13816978    99132489902145857   \n",
       "5      13816982    24031002969977520   \n",
       "6      13816983    90452638081599438   \n",
       "7      13816984     8137956201600364   \n",
       "8      13816987    16509406124932861   \n",
       "9      13816988   927362550600788205   \n",
       "10     13816989    49991019577724905   \n",
       "11     13816990    50011192552313780   \n",
       "12     13816991    87084209490002773   \n",
       "13     13816994    32622294845257968   \n",
       "14     13816999  7675183018581898063   \n",
       "15     13817000   544880915689907834   \n",
       "16     13817002    21392770472266761   \n",
       "17     13817005    70171820117865720   \n",
       "18     13817006    32560918139763120   \n",
       "19     13817011    11017484465500170   \n",
       "\n",
       "                                         miner  coinbase_transfers gas_used  \\\n",
       "0   0x45a36a8e118C37e4c47eF4Ab827A7C9e579E11E2                   0   547917   \n",
       "1   0xB7e390864a90b7b923C9f9310C6F98aafE43F707                   0  2255051   \n",
       "2   0x7F101fE45e6649A6fB8F3F8B43ed03D353f2B90c  141713900363841842   546931   \n",
       "3   0xEA674fdDe714fd979de3EdF0F56AA9716B898ec8                   0   463999   \n",
       "4   0x829BD824B016326A401d083B33D092293333A830                   0  3401190   \n",
       "5   0x1aD91ee08f21bE3dE0BA2ba6918E714dA6B45836                   0   395874   \n",
       "6   0xEA674fdDe714fd979de3EdF0F56AA9716B898ec8   90452638081599438   440305   \n",
       "7   0x7F101fE45e6649A6fB8F3F8B43ed03D353f2B90c                   0   504500   \n",
       "8   0xc3348B43d3881151224b490e4aa39E03d2B1cDEa     959322412475415   518626   \n",
       "9   0xEA674fdDe714fd979de3EdF0F56AA9716B898ec8  927362550600788205  1212307   \n",
       "10  0x0708F87A089a91C65d48721Aa941084648562287                   0   517137   \n",
       "11  0xc365c3315cF926351CcAf13fA7D19c8C4058C8E1   50011192552313780   167562   \n",
       "12  0xEA674fdDe714fd979de3EdF0F56AA9716B898ec8   87084209490002773   273987   \n",
       "13  0x829BD824B016326A401d083B33D092293333A830                   0   254553   \n",
       "14  0x2A20380DcA5bC24D052acfbf79ba23e988ad0050                   0   660043   \n",
       "15  0x829BD824B016326A401d083B33D092293333A830  495600914478722856   811752   \n",
       "16  0x1aD91ee08f21bE3dE0BA2ba6918E714dA6B45836                   0   252892   \n",
       "17  0x829BD824B016326A401d083B33D092293333A830                   0  2474929   \n",
       "18  0x1aD91ee08f21bE3dE0BA2ba6918E714dA6B45836   26770485879600000   248446   \n",
       "19  0xCD458d7F11023556cC9058F729831a038Cb8Df9c                   0    98910   \n",
       "\n",
       "         gas_price is_megabundle  \n",
       "0      36799682403           NaN  \n",
       "1       3000000000           NaN  \n",
       "2     279898970079           NaN  \n",
       "3      33311089783           NaN  \n",
       "4      29146413432           NaN  \n",
       "5      60703665737           NaN  \n",
       "6     205431775886           NaN  \n",
       "7      16130735781           NaN  \n",
       "8      31832970435           NaN  \n",
       "9     764956855483           NaN  \n",
       "10     96668812283           NaN  \n",
       "11    298463807738           NaN  \n",
       "12    317840662111           NaN  \n",
       "13    128155216576           NaN  \n",
       "14  11628307577812           NaN  \n",
       "15    671240619905           NaN  \n",
       "16     84592515667           NaN  \n",
       "17     28353063913           NaN  \n",
       "18    131058331145           NaN  \n",
       "19    111388984587           NaN  "
      ],
      "text/html": "<div>\n<style scoped>\n    .dataframe tbody tr th:only-of-type {\n        vertical-align: middle;\n    }\n\n    .dataframe tbody tr th {\n        vertical-align: top;\n    }\n\n    .dataframe thead th {\n        text-align: right;\n    }\n</style>\n<table border=\"1\" class=\"dataframe\">\n  <thead>\n    <tr style=\"text-align: right;\">\n      <th></th>\n      <th>block_number</th>\n      <th>miner_reward</th>\n      <th>miner</th>\n      <th>coinbase_transfers</th>\n      <th>gas_used</th>\n      <th>gas_price</th>\n      <th>is_megabundle</th>\n    </tr>\n  </thead>\n  <tbody>\n    <tr>\n      <th>0</th>\n      <td>13816967</td>\n      <td>20163171583655718</td>\n      <td>0x45a36a8e118C37e4c47eF4Ab827A7C9e579E11E2</td>\n      <td>0</td>\n      <td>547917</td>\n      <td>36799682403</td>\n      <td>NaN</td>\n    </tr>\n    <tr>\n      <th>1</th>\n      <td>13816972</td>\n      <td>6765153000000000</td>\n      <td>0xB7e390864a90b7b923C9f9310C6F98aafE43F707</td>\n      <td>0</td>\n      <td>2255051</td>\n      <td>3000000000</td>\n      <td>NaN</td>\n    </tr>\n    <tr>\n      <th>2</th>\n      <td>13816975</td>\n      <td>153085423604402612</td>\n      <td>0x7F101fE45e6649A6fB8F3F8B43ed03D353f2B90c</td>\n      <td>141713900363841842</td>\n      <td>546931</td>\n      <td>279898970079</td>\n      <td>NaN</td>\n    </tr>\n    <tr>\n      <th>3</th>\n      <td>13816976</td>\n      <td>15456312348616656</td>\n      <td>0xEA674fdDe714fd979de3EdF0F56AA9716B898ec8</td>\n      <td>0</td>\n      <td>463999</td>\n      <td>33311089783</td>\n      <td>NaN</td>\n    </tr>\n    <tr>\n      <th>4</th>\n      <td>13816978</td>\n      <td>99132489902145857</td>\n      <td>0x829BD824B016326A401d083B33D092293333A830</td>\n      <td>0</td>\n      <td>3401190</td>\n      <td>29146413432</td>\n      <td>NaN</td>\n    </tr>\n    <tr>\n      <th>5</th>\n      <td>13816982</td>\n      <td>24031002969977520</td>\n      <td>0x1aD91ee08f21bE3dE0BA2ba6918E714dA6B45836</td>\n      <td>0</td>\n      <td>395874</td>\n      <td>60703665737</td>\n      <td>NaN</td>\n    </tr>\n    <tr>\n      <th>6</th>\n      <td>13816983</td>\n      <td>90452638081599438</td>\n      <td>0xEA674fdDe714fd979de3EdF0F56AA9716B898ec8</td>\n      <td>90452638081599438</td>\n      <td>440305</td>\n      <td>205431775886</td>\n      <td>NaN</td>\n    </tr>\n    <tr>\n      <th>7</th>\n      <td>13816984</td>\n      <td>8137956201600364</td>\n      <td>0x7F101fE45e6649A6fB8F3F8B43ed03D353f2B90c</td>\n      <td>0</td>\n      <td>504500</td>\n      <td>16130735781</td>\n      <td>NaN</td>\n    </tr>\n    <tr>\n      <th>8</th>\n      <td>13816987</td>\n      <td>16509406124932861</td>\n      <td>0xc3348B43d3881151224b490e4aa39E03d2B1cDEa</td>\n      <td>959322412475415</td>\n      <td>518626</td>\n      <td>31832970435</td>\n      <td>NaN</td>\n    </tr>\n    <tr>\n      <th>9</th>\n      <td>13816988</td>\n      <td>927362550600788205</td>\n      <td>0xEA674fdDe714fd979de3EdF0F56AA9716B898ec8</td>\n      <td>927362550600788205</td>\n      <td>1212307</td>\n      <td>764956855483</td>\n      <td>NaN</td>\n    </tr>\n    <tr>\n      <th>10</th>\n      <td>13816989</td>\n      <td>49991019577724905</td>\n      <td>0x0708F87A089a91C65d48721Aa941084648562287</td>\n      <td>0</td>\n      <td>517137</td>\n      <td>96668812283</td>\n      <td>NaN</td>\n    </tr>\n    <tr>\n      <th>11</th>\n      <td>13816990</td>\n      <td>50011192552313780</td>\n      <td>0xc365c3315cF926351CcAf13fA7D19c8C4058C8E1</td>\n      <td>50011192552313780</td>\n      <td>167562</td>\n      <td>298463807738</td>\n      <td>NaN</td>\n    </tr>\n    <tr>\n      <th>12</th>\n      <td>13816991</td>\n      <td>87084209490002773</td>\n      <td>0xEA674fdDe714fd979de3EdF0F56AA9716B898ec8</td>\n      <td>87084209490002773</td>\n      <td>273987</td>\n      <td>317840662111</td>\n      <td>NaN</td>\n    </tr>\n    <tr>\n      <th>13</th>\n      <td>13816994</td>\n      <td>32622294845257968</td>\n      <td>0x829BD824B016326A401d083B33D092293333A830</td>\n      <td>0</td>\n      <td>254553</td>\n      <td>128155216576</td>\n      <td>NaN</td>\n    </tr>\n    <tr>\n      <th>14</th>\n      <td>13816999</td>\n      <td>7675183018581898063</td>\n      <td>0x2A20380DcA5bC24D052acfbf79ba23e988ad0050</td>\n      <td>0</td>\n      <td>660043</td>\n      <td>11628307577812</td>\n      <td>NaN</td>\n    </tr>\n    <tr>\n      <th>15</th>\n      <td>13817000</td>\n      <td>544880915689907834</td>\n      <td>0x829BD824B016326A401d083B33D092293333A830</td>\n      <td>495600914478722856</td>\n      <td>811752</td>\n      <td>671240619905</td>\n      <td>NaN</td>\n    </tr>\n    <tr>\n      <th>16</th>\n      <td>13817002</td>\n      <td>21392770472266761</td>\n      <td>0x1aD91ee08f21bE3dE0BA2ba6918E714dA6B45836</td>\n      <td>0</td>\n      <td>252892</td>\n      <td>84592515667</td>\n      <td>NaN</td>\n    </tr>\n    <tr>\n      <th>17</th>\n      <td>13817005</td>\n      <td>70171820117865720</td>\n      <td>0x829BD824B016326A401d083B33D092293333A830</td>\n      <td>0</td>\n      <td>2474929</td>\n      <td>28353063913</td>\n      <td>NaN</td>\n    </tr>\n    <tr>\n      <th>18</th>\n      <td>13817006</td>\n      <td>32560918139763120</td>\n      <td>0x1aD91ee08f21bE3dE0BA2ba6918E714dA6B45836</td>\n      <td>26770485879600000</td>\n      <td>248446</td>\n      <td>131058331145</td>\n      <td>NaN</td>\n    </tr>\n    <tr>\n      <th>19</th>\n      <td>13817011</td>\n      <td>11017484465500170</td>\n      <td>0xCD458d7F11023556cC9058F729831a038Cb8Df9c</td>\n      <td>0</td>\n      <td>98910</td>\n      <td>111388984587</td>\n      <td>NaN</td>\n    </tr>\n  </tbody>\n</table>\n</div>"
     },
     "metadata": {},
     "execution_count": 8
    }
   ],
   "source": [
    "pd.read_pickle(blocks)"
   ]
  },
  {
   "cell_type": "code",
   "execution_count": 10,
   "metadata": {},
   "outputs": [
    {
     "output_type": "execute_result",
     "data": {
      "text/plain": [
       "                                     transaction_hash tx_index bundle_type  \\\n",
       "0   0x732ba2f22a0a438ab0384657481d29685a797f78a859...        0   flashbots   \n",
       "1   0x0580fc441ca1f08c0a230cb677c2723237c0e2b24031...        0   flashbots   \n",
       "2   0xd1a61967d8c3d3655c8b1b00e1ad72dc1f79cbe22e30...        1   flashbots   \n",
       "3   0x91f9ef79cbaf09ada84bf375a02fffdb181ae55b56bd...        2   flashbots   \n",
       "4   0xa03c151564f597d7c61befe0519597abe3ed65e1d8af...        0   flashbots   \n",
       "..                                                ...      ...         ...   \n",
       "72  0x37cbbbf324f372cd3f27ccaa7e2c8c474f463d42c43c...        0   flashbots   \n",
       "73  0xdfc253aff5ffa912d266f67b0b0e5ed78bdaeb48e712...        0   flashbots   \n",
       "74  0xf15249e5894e2601ee366bfef02db3237750adc08234...        1   flashbots   \n",
       "75  0x6abfa03496ebee0d54a5e6e957ab16db7385ee273f8b...        2   flashbots   \n",
       "76  0x576e067536bc778a95d0f0457fc9b319d7a255c78696...        0   flashbots   \n",
       "\n",
       "   bundle_index block_number                                 eoa_address  \\\n",
       "0             0     13816967  0xccff23F288913eA44Fe48218c6855c6a773141e6   \n",
       "1             1     13816967  0xb3B6dcEeb3B6501Ac72FEb06f36b0446facf38b4   \n",
       "2             1     13816967  0xA50B5Cc2340b4bb4A6B761AbC53B428a959F139E   \n",
       "3             1     13816967  0xb3B6dcEeb3B6501Ac72FEb06f36b0446facf38b4   \n",
       "4             0     13816972  0xFD0101D908bF7e4a03168B6e90AA7F1e70606225   \n",
       "..          ...          ...                                         ...   \n",
       "72            2     13817005  0x9f97bbf3f143CF5c0B1819D1b57398c2Ab6E87D6   \n",
       "73            0     13817006  0xCeE29290c6DDa832898bA707eE9D40B311181b9A   \n",
       "74            0     13817006  0xfcC1a004E627f9EAB01d4E6c58eeE6ef3f14E5ce   \n",
       "75            0     13817006  0x3fb530B53036B5d8de892AD1EdA14a576a22e6d6   \n",
       "76            0     13817011  0x0F4ee9631f4be0a63756515141281A3E2B293Bbe   \n",
       "\n",
       "                                    to_address gas_used     gas_price  \\\n",
       "0   0x7a250d5630B4cF539739dF2C5dAcb4c659F2488D   117775   48003300387   \n",
       "1   0x7Cf09D7A9A74f746EDcb06949B9d64bCd9D1604f   153270             0   \n",
       "2   0xE592427A0AEce92De3Edee1F18E0157C05861564   136487    1709493039   \n",
       "3   0x7Cf09D7A9A74f746EDcb06949B9d64bCd9D1604f   140385  101693623280   \n",
       "4   0x7B1AAF21AC0D420666B5966338FF9aEe763C29DF  2255051    3000000000   \n",
       "..                                         ...      ...           ...   \n",
       "72  0xFA103c21ea2DF71DFb92B0652F8B1D795e51cdEf    70184    1100001001   \n",
       "73  0x1111111254fb6c44bAC0beD2854e76F90643097d   101213   12863397340   \n",
       "74  0x7a250d5630B4cF539739dF2C5dAcb4c659F2488D   116218   35188447200   \n",
       "75  0xC358848e138Ab73bd5B9FFcceD25517F71101Fb0    31015  876009806483   \n",
       "76  0xd9e1cE17f2641f24aE83637ab66a2cca9C378B9F    98910  111388984587   \n",
       "\n",
       "    coinbase_transfer total_miner_reward  is_megabundle  \n",
       "0                   0   5653588703078925            1.0  \n",
       "1                   0                  0            1.0  \n",
       "2                   0    233323576413993            1.0  \n",
       "3                   0  14276259304162800            1.0  \n",
       "4                   0   6765153000000000            1.0  \n",
       "..                ...                ...            ...  \n",
       "72                  0     77202470254184            1.0  \n",
       "73                  0   1301943034973420            1.0  \n",
       "74                  0   4089530956689600            1.0  \n",
       "75  26770485879600000  27169444148100100            1.0  \n",
       "76                  0  11017484465500170            1.0  \n",
       "\n",
       "[77 rows x 12 columns]"
      ],
      "text/html": "<div>\n<style scoped>\n    .dataframe tbody tr th:only-of-type {\n        vertical-align: middle;\n    }\n\n    .dataframe tbody tr th {\n        vertical-align: top;\n    }\n\n    .dataframe thead th {\n        text-align: right;\n    }\n</style>\n<table border=\"1\" class=\"dataframe\">\n  <thead>\n    <tr style=\"text-align: right;\">\n      <th></th>\n      <th>transaction_hash</th>\n      <th>tx_index</th>\n      <th>bundle_type</th>\n      <th>bundle_index</th>\n      <th>block_number</th>\n      <th>eoa_address</th>\n      <th>to_address</th>\n      <th>gas_used</th>\n      <th>gas_price</th>\n      <th>coinbase_transfer</th>\n      <th>total_miner_reward</th>\n      <th>is_megabundle</th>\n    </tr>\n  </thead>\n  <tbody>\n    <tr>\n      <th>0</th>\n      <td>0x732ba2f22a0a438ab0384657481d29685a797f78a859...</td>\n      <td>0</td>\n      <td>flashbots</td>\n      <td>0</td>\n      <td>13816967</td>\n      <td>0xccff23F288913eA44Fe48218c6855c6a773141e6</td>\n      <td>0x7a250d5630B4cF539739dF2C5dAcb4c659F2488D</td>\n      <td>117775</td>\n      <td>48003300387</td>\n      <td>0</td>\n      <td>5653588703078925</td>\n      <td>1.0</td>\n    </tr>\n    <tr>\n      <th>1</th>\n      <td>0x0580fc441ca1f08c0a230cb677c2723237c0e2b24031...</td>\n      <td>0</td>\n      <td>flashbots</td>\n      <td>1</td>\n      <td>13816967</td>\n      <td>0xb3B6dcEeb3B6501Ac72FEb06f36b0446facf38b4</td>\n      <td>0x7Cf09D7A9A74f746EDcb06949B9d64bCd9D1604f</td>\n      <td>153270</td>\n      <td>0</td>\n      <td>0</td>\n      <td>0</td>\n      <td>1.0</td>\n    </tr>\n    <tr>\n      <th>2</th>\n      <td>0xd1a61967d8c3d3655c8b1b00e1ad72dc1f79cbe22e30...</td>\n      <td>1</td>\n      <td>flashbots</td>\n      <td>1</td>\n      <td>13816967</td>\n      <td>0xA50B5Cc2340b4bb4A6B761AbC53B428a959F139E</td>\n      <td>0xE592427A0AEce92De3Edee1F18E0157C05861564</td>\n      <td>136487</td>\n      <td>1709493039</td>\n      <td>0</td>\n      <td>233323576413993</td>\n      <td>1.0</td>\n    </tr>\n    <tr>\n      <th>3</th>\n      <td>0x91f9ef79cbaf09ada84bf375a02fffdb181ae55b56bd...</td>\n      <td>2</td>\n      <td>flashbots</td>\n      <td>1</td>\n      <td>13816967</td>\n      <td>0xb3B6dcEeb3B6501Ac72FEb06f36b0446facf38b4</td>\n      <td>0x7Cf09D7A9A74f746EDcb06949B9d64bCd9D1604f</td>\n      <td>140385</td>\n      <td>101693623280</td>\n      <td>0</td>\n      <td>14276259304162800</td>\n      <td>1.0</td>\n    </tr>\n    <tr>\n      <th>4</th>\n      <td>0xa03c151564f597d7c61befe0519597abe3ed65e1d8af...</td>\n      <td>0</td>\n      <td>flashbots</td>\n      <td>0</td>\n      <td>13816972</td>\n      <td>0xFD0101D908bF7e4a03168B6e90AA7F1e70606225</td>\n      <td>0x7B1AAF21AC0D420666B5966338FF9aEe763C29DF</td>\n      <td>2255051</td>\n      <td>3000000000</td>\n      <td>0</td>\n      <td>6765153000000000</td>\n      <td>1.0</td>\n    </tr>\n    <tr>\n      <th>...</th>\n      <td>...</td>\n      <td>...</td>\n      <td>...</td>\n      <td>...</td>\n      <td>...</td>\n      <td>...</td>\n      <td>...</td>\n      <td>...</td>\n      <td>...</td>\n      <td>...</td>\n      <td>...</td>\n      <td>...</td>\n    </tr>\n    <tr>\n      <th>72</th>\n      <td>0x37cbbbf324f372cd3f27ccaa7e2c8c474f463d42c43c...</td>\n      <td>0</td>\n      <td>flashbots</td>\n      <td>2</td>\n      <td>13817005</td>\n      <td>0x9f97bbf3f143CF5c0B1819D1b57398c2Ab6E87D6</td>\n      <td>0xFA103c21ea2DF71DFb92B0652F8B1D795e51cdEf</td>\n      <td>70184</td>\n      <td>1100001001</td>\n      <td>0</td>\n      <td>77202470254184</td>\n      <td>1.0</td>\n    </tr>\n    <tr>\n      <th>73</th>\n      <td>0xdfc253aff5ffa912d266f67b0b0e5ed78bdaeb48e712...</td>\n      <td>0</td>\n      <td>flashbots</td>\n      <td>0</td>\n      <td>13817006</td>\n      <td>0xCeE29290c6DDa832898bA707eE9D40B311181b9A</td>\n      <td>0x1111111254fb6c44bAC0beD2854e76F90643097d</td>\n      <td>101213</td>\n      <td>12863397340</td>\n      <td>0</td>\n      <td>1301943034973420</td>\n      <td>1.0</td>\n    </tr>\n    <tr>\n      <th>74</th>\n      <td>0xf15249e5894e2601ee366bfef02db3237750adc08234...</td>\n      <td>1</td>\n      <td>flashbots</td>\n      <td>0</td>\n      <td>13817006</td>\n      <td>0xfcC1a004E627f9EAB01d4E6c58eeE6ef3f14E5ce</td>\n      <td>0x7a250d5630B4cF539739dF2C5dAcb4c659F2488D</td>\n      <td>116218</td>\n      <td>35188447200</td>\n      <td>0</td>\n      <td>4089530956689600</td>\n      <td>1.0</td>\n    </tr>\n    <tr>\n      <th>75</th>\n      <td>0x6abfa03496ebee0d54a5e6e957ab16db7385ee273f8b...</td>\n      <td>2</td>\n      <td>flashbots</td>\n      <td>0</td>\n      <td>13817006</td>\n      <td>0x3fb530B53036B5d8de892AD1EdA14a576a22e6d6</td>\n      <td>0xC358848e138Ab73bd5B9FFcceD25517F71101Fb0</td>\n      <td>31015</td>\n      <td>876009806483</td>\n      <td>26770485879600000</td>\n      <td>27169444148100100</td>\n      <td>1.0</td>\n    </tr>\n    <tr>\n      <th>76</th>\n      <td>0x576e067536bc778a95d0f0457fc9b319d7a255c78696...</td>\n      <td>0</td>\n      <td>flashbots</td>\n      <td>0</td>\n      <td>13817011</td>\n      <td>0x0F4ee9631f4be0a63756515141281A3E2B293Bbe</td>\n      <td>0xd9e1cE17f2641f24aE83637ab66a2cca9C378B9F</td>\n      <td>98910</td>\n      <td>111388984587</td>\n      <td>0</td>\n      <td>11017484465500170</td>\n      <td>1.0</td>\n    </tr>\n  </tbody>\n</table>\n<p>77 rows × 12 columns</p>\n</div>"
     },
     "metadata": {},
     "execution_count": 10
    }
   ],
   "source": [
    "pd.read_pickle(transactions)"
   ]
  },
  {
   "cell_type": "code",
   "execution_count": null,
   "metadata": {},
   "outputs": [],
   "source": [
    "dbcreation.setconnection(username,password)"
   ]
  }
 ]
}